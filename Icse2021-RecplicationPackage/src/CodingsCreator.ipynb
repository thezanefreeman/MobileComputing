{
 "cells": [
  {
   "cell_type": "code",
   "execution_count": 1,
   "metadata": {
    "tags": []
   },
   "outputs": [
    {
     "output_type": "stream",
     "name": "stdout",
     "text": "firefox_reviews:100\nvlc_reviews:100\nsignal_reviews:100\nnextcloud_reviews:100\n\n"
    }
   ],
   "source": [
    "import Constants as Const\n",
    "import ModelLoader\n",
    "import DataLoader\n",
    "import random\n",
    "import pandas as pd\n",
    "import ExampleMatches\n",
    "from tqdm import tqdm\n",
    "from SampeledIds import sampled_ids\n",
    "\n",
    "SEED = 42\n",
    "NUM_SAMPLES = 100\n",
    "NUMBER_NEAREST = 3\n",
    "random.seed(SEED)\n",
    "\n",
    "app_reviews = DataLoader.load_df_compressed(Const.APP_REVIEWS)\n",
    "tweets = DataLoader.load_df_compressed(Const.TWEETS)\n",
    "\n",
    "def select_random_reviews(df, app, n):\n",
    "    df = df[\n",
    "            df['inSample'] \n",
    "            & (df['app_id']==app)\n",
    "            & (df['review_class']=='bug_report')\n",
    "            & (~df['reviewId'].isin(sampled_ids))\n",
    "        ]\n",
    "    \n",
    "    random_reviews = df.sample(n, random_state=SEED)[['content', 'reviewId', 'app_id']].values.tolist()\n",
    "    return random_reviews\n",
    "\n",
    "def select_random_tweets(df, app, n):\n",
    "    df = df[\n",
    "            df['inSample'] \n",
    "            & (df['app']==app)\n",
    "            & (df['review_class']=='bug_report')\n",
    "        ]\n",
    "    random_tweets = df.sample(n, random_state=SEED)[['text', 'ID', 'app']].values.tolist()\n",
    "    return random_tweets\n",
    "    \n",
    "\n",
    "random_firefox_reviews = select_random_reviews(app_reviews, Const.FIREFOX_ID, NUM_SAMPLES)\n",
    "random_vlc_reviews = select_random_reviews(app_reviews, Const.VLC_ID, NUM_SAMPLES)\n",
    "random_signal_reviews = select_random_reviews(app_reviews, Const.SIGNAL_ID, NUM_SAMPLES)\n",
    "random_nextcloud_reviews = select_random_reviews(app_reviews, Const.NEXTCLOUD_ID, NUM_SAMPLES)\n",
    "\n",
    "# random_firefox_tweets = select_random_tweets(tweets, '@firefox', NUM_SAMPLES)\n",
    "# random_vlc_tweets = select_random_tweets(tweets, '@videolan', NUM_SAMPLES)\n",
    "\n",
    "print(f'firefox_reviews:{len(random_firefox_reviews)}')\n",
    "print(f'vlc_reviews:{len(random_vlc_reviews)}')\n",
    "print(f'signal_reviews:{len(random_signal_reviews)}')\n",
    "print(f'nextcloud_reviews:{len(random_nextcloud_reviews)}')\n",
    "print()\n",
    "# print(f'firefox_tweets:{len(random_firefox_tweets)}')\n",
    "# print(f'vlc_tweets:{len(random_vlc_tweets)}')"
   ]
  },
  {
   "cell_type": "code",
   "execution_count": 2,
   "metadata": {
    "tags": []
   },
   "outputs": [
    {
     "output_type": "stream",
     "name": "stderr",
     "text": "INFO:c:\\Users\\MH\\git\\icse21\\src\\DataLoader.py:embeddings loaded from: c:\\Users\\MH\\git\\icse21\\data\\firefox_android_embeddings_nouns.pkl\nINFO:c:\\Users\\MH\\git\\icse21\\src\\DataLoader.py:embeddings loaded from: c:\\Users\\MH\\git\\icse21\\data\\vlc_embeddings_nouns.pkl\nINFO:c:\\Users\\MH\\git\\icse21\\src\\DataLoader.py:embeddings loaded from: c:\\Users\\MH\\git\\icse21\\data\\signal_embeddings_nouns.pkl\nINFO:c:\\Users\\MH\\git\\icse21\\src\\DataLoader.py:embeddings loaded from: c:\\Users\\MH\\git\\icse21\\data\\nextcloud_embeddings_nouns.pkl\n100%|██████████| 100/100 [05:27<00:00,  3.28s/it]\n100%|██████████| 100/100 [00:11<00:00,  8.62it/s]\n100%|██████████| 100/100 [01:23<00:00,  1.19it/s]\n100%|██████████| 100/100 [00:30<00:00,  3.26it/s]\n"
    },
    {
     "output_type": "execute_result",
     "data": {
      "text/plain": "                       app platform      source  \\\n0      org.mozilla.firefox      app  app_review   \n1      org.mozilla.firefox      app  app_review   \n2      org.mozilla.firefox      app  app_review   \n3      org.mozilla.firefox      app  app_review   \n4      org.mozilla.firefox      app  app_review   \n...                    ...      ...         ...   \n1195  com.nextcloud.client      app  app_review   \n1196  com.nextcloud.client      app  app_review   \n1197  com.nextcloud.client      app  app_review   \n1198  com.nextcloud.client      app  app_review   \n1199  com.nextcloud.client      app  app_review   \n\n                                          user_feedback  \\\n0     Mozilla's new add-on policy ruined everything....   \n1     Mozilla's new add-on policy ruined everything....   \n2     Mozilla's new add-on policy ruined everything....   \n3     Videos or songs don't stop playing after you s...   \n4     Videos or songs don't stop playing after you s...   \n...                                                 ...   \n1195  The photo upload function doesn't care if you ...   \n1196  The photo upload function doesn't care if you ...   \n1197  Auto uploads no longer work. App just freezes ...   \n1198  Auto uploads no longer work. App just freezes ...   \n1199  Auto uploads no longer work. App just freezes ...   \n\n                                             issue_text  \\\n0     Firefox Beta version 65.0b5 gives the false & ...   \n1     during upgrade of open webapps, error: \"an exi...   \n2     <html>'s clientHeight is incorrect and inconsi...   \n3     Sound of the webm video keeps playing even if ...   \n4     Nothing happens when pressing on volume icon w...   \n...                                                 ...   \n1195  Autoupload of images does not work when SD car...   \n1196  Auto-Upload issue: Photos taken are not upload...   \n1197              Retrying failed uploads stops the app   \n1198  Auto upload on 1.4.2 and Android 7.1.2 still b...   \n1199  Auto uploads 'Waiting for Wi-Fi' when connecte...   \n\n                                       user_feedback_id   issue_id  distance  \n0     gp:AOqpTOHjRnXA91fybp8lvHqEBHkBmcmOcToaOAmZRuo...    1515842  0.870129  \n1     gp:AOqpTOHjRnXA91fybp8lvHqEBHkBmcmOcToaOAmZRuo...     988980  0.864170  \n2     gp:AOqpTOHjRnXA91fybp8lvHqEBHkBmcmOcToaOAmZRuo...    1105326  0.861604  \n3     gp:AOqpTOEZBygtMIIfRZ6MNA7SDeVl6FQEILngeYA9P70...    1265284  0.875324  \n4     gp:AOqpTOEZBygtMIIfRZ6MNA7SDeVl6FQEILngeYA9P70...    1133683  0.871545  \n...                                                 ...        ...       ...  \n1195  gp:AOqpTOFJtPG2KpTet7IPG5ET-vHVeLkSSjY40rAkSmL...  198345245  0.864989  \n1196  gp:AOqpTOFJtPG2KpTet7IPG5ET-vHVeLkSSjY40rAkSmL...  363781464  0.858782  \n1197  gp:AOqpTOGrSwjxvHu5Yfs_Z2vedhy40sxpUHcem0Ar33P...  289791893  0.930025  \n1198  gp:AOqpTOGrSwjxvHu5Yfs_Z2vedhy40sxpUHcem0Ar33P...  221706645  0.921641  \n1199  gp:AOqpTOGrSwjxvHu5Yfs_Z2vedhy40sxpUHcem0Ar33P...  294093766  0.920272  \n\n[1200 rows x 8 columns]",
      "text/html": "<div>\n<style scoped>\n    .dataframe tbody tr th:only-of-type {\n        vertical-align: middle;\n    }\n\n    .dataframe tbody tr th {\n        vertical-align: top;\n    }\n\n    .dataframe thead th {\n        text-align: right;\n    }\n</style>\n<table border=\"1\" class=\"dataframe\">\n  <thead>\n    <tr style=\"text-align: right;\">\n      <th></th>\n      <th>app</th>\n      <th>platform</th>\n      <th>source</th>\n      <th>user_feedback</th>\n      <th>issue_text</th>\n      <th>user_feedback_id</th>\n      <th>issue_id</th>\n      <th>distance</th>\n    </tr>\n  </thead>\n  <tbody>\n    <tr>\n      <th>0</th>\n      <td>org.mozilla.firefox</td>\n      <td>app</td>\n      <td>app_review</td>\n      <td>Mozilla's new add-on policy ruined everything....</td>\n      <td>Firefox Beta version 65.0b5 gives the false &amp; ...</td>\n      <td>gp:AOqpTOHjRnXA91fybp8lvHqEBHkBmcmOcToaOAmZRuo...</td>\n      <td>1515842</td>\n      <td>0.870129</td>\n    </tr>\n    <tr>\n      <th>1</th>\n      <td>org.mozilla.firefox</td>\n      <td>app</td>\n      <td>app_review</td>\n      <td>Mozilla's new add-on policy ruined everything....</td>\n      <td>during upgrade of open webapps, error: \"an exi...</td>\n      <td>gp:AOqpTOHjRnXA91fybp8lvHqEBHkBmcmOcToaOAmZRuo...</td>\n      <td>988980</td>\n      <td>0.864170</td>\n    </tr>\n    <tr>\n      <th>2</th>\n      <td>org.mozilla.firefox</td>\n      <td>app</td>\n      <td>app_review</td>\n      <td>Mozilla's new add-on policy ruined everything....</td>\n      <td>&lt;html&gt;'s clientHeight is incorrect and inconsi...</td>\n      <td>gp:AOqpTOHjRnXA91fybp8lvHqEBHkBmcmOcToaOAmZRuo...</td>\n      <td>1105326</td>\n      <td>0.861604</td>\n    </tr>\n    <tr>\n      <th>3</th>\n      <td>org.mozilla.firefox</td>\n      <td>app</td>\n      <td>app_review</td>\n      <td>Videos or songs don't stop playing after you s...</td>\n      <td>Sound of the webm video keeps playing even if ...</td>\n      <td>gp:AOqpTOEZBygtMIIfRZ6MNA7SDeVl6FQEILngeYA9P70...</td>\n      <td>1265284</td>\n      <td>0.875324</td>\n    </tr>\n    <tr>\n      <th>4</th>\n      <td>org.mozilla.firefox</td>\n      <td>app</td>\n      <td>app_review</td>\n      <td>Videos or songs don't stop playing after you s...</td>\n      <td>Nothing happens when pressing on volume icon w...</td>\n      <td>gp:AOqpTOEZBygtMIIfRZ6MNA7SDeVl6FQEILngeYA9P70...</td>\n      <td>1133683</td>\n      <td>0.871545</td>\n    </tr>\n    <tr>\n      <th>...</th>\n      <td>...</td>\n      <td>...</td>\n      <td>...</td>\n      <td>...</td>\n      <td>...</td>\n      <td>...</td>\n      <td>...</td>\n      <td>...</td>\n    </tr>\n    <tr>\n      <th>1195</th>\n      <td>com.nextcloud.client</td>\n      <td>app</td>\n      <td>app_review</td>\n      <td>The photo upload function doesn't care if you ...</td>\n      <td>Autoupload of images does not work when SD car...</td>\n      <td>gp:AOqpTOFJtPG2KpTet7IPG5ET-vHVeLkSSjY40rAkSmL...</td>\n      <td>198345245</td>\n      <td>0.864989</td>\n    </tr>\n    <tr>\n      <th>1196</th>\n      <td>com.nextcloud.client</td>\n      <td>app</td>\n      <td>app_review</td>\n      <td>The photo upload function doesn't care if you ...</td>\n      <td>Auto-Upload issue: Photos taken are not upload...</td>\n      <td>gp:AOqpTOFJtPG2KpTet7IPG5ET-vHVeLkSSjY40rAkSmL...</td>\n      <td>363781464</td>\n      <td>0.858782</td>\n    </tr>\n    <tr>\n      <th>1197</th>\n      <td>com.nextcloud.client</td>\n      <td>app</td>\n      <td>app_review</td>\n      <td>Auto uploads no longer work. App just freezes ...</td>\n      <td>Retrying failed uploads stops the app</td>\n      <td>gp:AOqpTOGrSwjxvHu5Yfs_Z2vedhy40sxpUHcem0Ar33P...</td>\n      <td>289791893</td>\n      <td>0.930025</td>\n    </tr>\n    <tr>\n      <th>1198</th>\n      <td>com.nextcloud.client</td>\n      <td>app</td>\n      <td>app_review</td>\n      <td>Auto uploads no longer work. App just freezes ...</td>\n      <td>Auto upload on 1.4.2 and Android 7.1.2 still b...</td>\n      <td>gp:AOqpTOGrSwjxvHu5Yfs_Z2vedhy40sxpUHcem0Ar33P...</td>\n      <td>221706645</td>\n      <td>0.921641</td>\n    </tr>\n    <tr>\n      <th>1199</th>\n      <td>com.nextcloud.client</td>\n      <td>app</td>\n      <td>app_review</td>\n      <td>Auto uploads no longer work. App just freezes ...</td>\n      <td>Auto uploads 'Waiting for Wi-Fi' when connecte...</td>\n      <td>gp:AOqpTOGrSwjxvHu5Yfs_Z2vedhy40sxpUHcem0Ar33P...</td>\n      <td>294093766</td>\n      <td>0.920272</td>\n    </tr>\n  </tbody>\n</table>\n<p>1200 rows × 8 columns</p>\n</div>"
     },
     "metadata": {},
     "execution_count": 2
    }
   ],
   "source": [
    "\n",
    "firefox_issues_android_embeddings = DataLoader.load_embeddings(Const.FIREFOX_ANDROID_EMBEDDINGS)\n",
    "# firefox_issues_desktop_embeddings = DataLoader.load_embeddings(Const.FIREFOX_EMBEDDINGS)\n",
    "vlc_issues_embeddings = DataLoader.load_embeddings(Const.VLC_EMBEDDINGS)\n",
    "signal_issues_embeddings = DataLoader.load_embeddings(Const.SIGNAL_EMBEDDINGS)\n",
    "nextcloud_issues_embeddings = DataLoader.load_embeddings(Const.NEXTCLOUD_EMBEDDINGS)\n",
    "\n",
    "\n",
    "firefox_android_issues = DataLoader.load_df_compressed(Const.FIREFOX_ISSUES_ANDROID)\n",
    "# firefox_desktop_issues = DataLoader.load_df_compressed(Const.FIREFOX_ISSUES_DESKTOP)\n",
    "vlc_issues = DataLoader.load_df_compressed(Const.VLC_ISSUES)\n",
    "signal_issues = DataLoader.load_df_compressed(Const.SIGNAL_ISSUES)\n",
    "nextcloud_issues = DataLoader.load_df_compressed(Const.NEXTCLOUD_ISSUES)\n",
    "\n",
    "def create_coding(\n",
    "    app,\n",
    "    platform,\n",
    "    source,\n",
    "    user_feedback_text,\n",
    "    issue_text,\n",
    "    user_feedback_id,\n",
    "    issue_id,\n",
    "    distance):\n",
    "        return {\n",
    "            'app': app,\n",
    "            'platform': platform,\n",
    "            'source': source,\n",
    "            'user_feedback': user_feedback_text,\n",
    "            'issue_text': issue_text,\n",
    "            'user_feedback_id': str(user_feedback_id),\n",
    "            'issue_id': issue_id,\n",
    "            'distance': distance\n",
    "        }\n",
    "\n",
    "def append_codings(user_feedback, embeddings, issues, platform, source, title_column, codings):\n",
    "    for text, id, app in tqdm(user_feedback):\n",
    "        distances = ExampleMatches.get_nearest_issues(text, embeddings, n=NUMBER_NEAREST)\n",
    "        for issue_id, distance in distances:\n",
    "            issue_text = issues[issues['id']==issue_id][title_column].values[0]\n",
    "            coding = create_coding(app, platform, source, text, issue_text, id, issue_id, distance.item())\n",
    "            codings.append(coding)\n",
    "    \n",
    "\n",
    "codings = []\n",
    "\n",
    "append_codings(random_firefox_reviews, firefox_issues_android_embeddings, firefox_android_issues, 'app', 'app_review', 'summary', codings)\n",
    "\n",
    "append_codings(random_vlc_reviews, vlc_issues_embeddings, vlc_issues, 'app', 'app_review', 'summary', codings)\n",
    "\n",
    "# append_codings(random_firefox_tweets, firefox_issues_desktop_embeddings, firefox_desktop_issues, 'desktop', 'twitter', codings)\n",
    "\n",
    "# append_codings(random_vlc_tweets, vlc_issues_embeddings, vlc_issues, 'desktop', 'twitter', codings)\n",
    "\n",
    "append_codings(random_signal_reviews, signal_issues_embeddings, signal_issues, 'app', 'app_review', 'title', codings)\n",
    "\n",
    "append_codings(random_nextcloud_reviews, nextcloud_issues_embeddings, nextcloud_issues, 'app', 'app_review', 'title', codings)\n",
    "\n",
    "\n",
    "\n",
    "\n",
    "# for tweet_text, tweet_id in tqdm(random_tweets_bug_reports):\n",
    "#     distances = ExampleMatches.get_nearest_issues(tweet_text, desktop_issues_embeddings, n=NUMBER_NEAREST)\n",
    "#     for issue_id, distance in distances:\n",
    "#         issue_text = firefox_desktop_issues[firefox_desktop_issues['id']==issue_id]['summary'].values[0]\n",
    "#         coding = create_coding('firefox','desktop', 'twitter',tweet_text, issue_text, tweet_id, issue_id, distance.item())\n",
    "#         codings.append(coding)\n",
    "\n",
    "\n",
    "df_codings = pd.DataFrame(codings)\n",
    "df_codings.to_csv(Const.CODINGS, index=False)\n",
    "pd.read_csv(Const.CODINGS)\n"
   ]
  },
  {
   "cell_type": "code",
   "execution_count": null,
   "metadata": {},
   "outputs": [],
   "source": []
  }
 ],
 "metadata": {
  "kernelspec": {
   "display_name": "icse21-venv",
   "language": "python",
   "name": "icse21-venv"
  },
  "language_info": {
   "codemirror_mode": {
    "name": "ipython",
    "version": 3
   },
   "file_extension": ".py",
   "mimetype": "text/x-python",
   "name": "python",
   "nbconvert_exporter": "python",
   "pygments_lexer": "ipython3",
   "version": "3.6.8-final"
  }
 },
 "nbformat": 4,
 "nbformat_minor": 4
}