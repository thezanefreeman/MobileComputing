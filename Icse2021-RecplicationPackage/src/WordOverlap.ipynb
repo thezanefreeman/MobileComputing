{
 "metadata": {
  "language_info": {
   "codemirror_mode": {
    "name": "ipython",
    "version": 3
   },
   "file_extension": ".py",
   "mimetype": "text/x-python",
   "name": "python",
   "nbconvert_exporter": "python",
   "pygments_lexer": "ipython3",
   "version": "3.6.8-final"
  },
  "orig_nbformat": 2,
  "kernelspec": {
   "name": "python_defaultSpec_1597742364470",
   "display_name": "Python 3.6.8 64-bit ('venv': venv)"
  }
 },
 "nbformat": 4,
 "nbformat_minor": 2,
 "cells": [
  {
   "cell_type": "code",
   "execution_count": 1,
   "metadata": {
    "tags": []
   },
   "outputs": [],
   "source": [
    "from typing import List, Set\n",
    "import Constants as Const\n",
    "import DataLoader\n",
    "import spacy\n",
    "import ModelLoader\n",
    "from tqdm import tqdm\n",
    "\n",
    "nlp = ModelLoader.get_spacy_model()\n",
    "\n",
    "firefox_issue_texts = DataLoader.load_df_compressed(Const.FIREFOX_ISSUES_ANDROID)['summary'].tolist()\n",
    "vlc_issue_texts = DataLoader.load_df_compressed(Const.VLC_ISSUES)['summary'].tolist()\n",
    "signal_issue_texts = DataLoader.load_df_compressed(Const.SIGNAL_ISSUES)['title'].tolist()\n",
    "nextcloud_issue_texts = DataLoader.load_df_compressed(Const.NEXTCLOUD_ISSUES)['title'].tolist()\n",
    "\n",
    "reviews = DataLoader.load_df_compressed(Const.APP_REVIEWS)\n",
    "\n",
    "firefox_reviews = reviews[reviews['app_id']==Const.FIREFOX_ID]['content'].tolist()\n",
    "vlc_reviews = reviews[reviews['app_id']==Const.VLC_ID]['content'].tolist()\n",
    "signal_reviews = reviews[reviews['app_id']==Const.SIGNAL_ID]['content'].tolist()\n",
    "nextcloud_reviews = reviews[reviews['app_id']==Const.NEXTCLOUD_ID]['content'].tolist()"
   ]
  },
  {
   "cell_type": "code",
   "execution_count": 2,
   "metadata": {
    "tags": []
   },
   "outputs": [
    {
     "output_type": "stream",
     "name": "stderr",
     "text": "100%|██████████| 29941/29941 [02:26<00:00, 204.22it/s]\n100%|██████████| 553/553 [00:02<00:00, 212.41it/s]\n100%|██████████| 7768/7768 [00:36<00:00, 214.48it/s]\n100%|██████████| 2462/2462 [00:12<00:00, 202.51it/s]\n100%|██████████| 5706/5706 [00:46<00:00, 124.01it/s]\n100%|██████████| 5026/5026 [00:38<00:00, 129.97it/s]\n100%|██████████| 10000/10000 [01:12<00:00, 138.18it/s]\n100%|██████████| 774/774 [00:05<00:00, 150.70it/s]\n"
    }
   ],
   "source": [
    "def text_to_nouns(texts: List[str]) -> Set[str]:\n",
    "    nouns = set()\n",
    "    for text in tqdm(texts):\n",
    "        doc = nlp(text)\n",
    "        for ent in doc:\n",
    "            if ent.pos_ == 'NOUN':\n",
    "                nouns.add(ent.text.lower())\n",
    "    return nouns\n",
    "\n",
    "firefox_issue_texts_nouns = text_to_nouns(firefox_issue_texts)\n",
    "vlc_issue_texts_nouns = text_to_nouns(vlc_issue_texts)\n",
    "signal_issue_texts_nouns = text_to_nouns(signal_issue_texts)\n",
    "nextcloud_issue_texts_nouns = text_to_nouns(nextcloud_issue_texts)\n",
    "\n",
    "firefox_reviews_nouns = text_to_nouns(firefox_reviews)\n",
    "vlc_reviews_nouns = text_to_nouns(vlc_reviews)\n",
    "signal_reviews_nouns = text_to_nouns(signal_reviews)\n",
    "nextcloud_reviews_nouns = text_to_nouns(nextcloud_reviews)\n"
   ]
  },
  {
   "cell_type": "code",
   "execution_count": 15,
   "metadata": {
    "tags": []
   },
   "outputs": [
    {
     "output_type": "stream",
     "name": "stdout",
     "text": "Firefox   : 0.19\nVLC       : 0.11\nSignal    : 0.24\nNextcloud : 0.25\n"
    }
   ],
   "source": [
    "def calculate_ratio(review_nouns, issue_nouns):\n",
    "    total = len(review_nouns.union(issue_nouns))\n",
    "    intersec = len(review_nouns.intersection(issue_nouns))\n",
    "    return intersec/total\n",
    "\n",
    "firefox_ratio = calculate_ratio(firefox_reviews_nouns, firefox_issue_texts_nouns)\n",
    "vlc_ratio = calculate_ratio(vlc_reviews_nouns, vlc_issue_texts_nouns)\n",
    "signal_ratio = calculate_ratio(signal_reviews_nouns, signal_issue_texts_nouns)\n",
    "nextcloud_ratio = calculate_ratio(nextcloud_reviews_nouns, nextcloud_issue_texts_nouns)\n",
    "\n",
    "values = {\n",
    "    'Firefox': firefox_ratio,\n",
    "    'VLC': vlc_ratio,\n",
    "    'Signal': signal_ratio,\n",
    "    'Nextcloud': nextcloud_ratio\n",
    "}\n",
    "\n",
    "print('Ratio of intersection/total vocab')\n",
    "for app, ratio in values.items():\n",
    "    print(f'{app:<10}: {ratio:.2f}')\n"
   ]
  },
  {
   "cell_type": "code",
   "execution_count": null,
   "metadata": {},
   "outputs": [],
   "source": []
  }
 ]
}